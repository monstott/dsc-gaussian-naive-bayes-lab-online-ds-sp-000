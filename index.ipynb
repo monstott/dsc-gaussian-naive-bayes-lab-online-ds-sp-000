{
 "cells": [
  {
   "cell_type": "markdown",
   "metadata": {},
   "source": [
    "# Gaussian Naive Bayes - Lab\n",
    "\n",
    "## Introduction\n",
    "\n",
    "Now that you've seen how to employ multinomial Bayes for classification, its time to practice implementing the process yourself. Afterward, you'll get a chance to further investigate the impacts of using true probabilities under the probability density function as opposed to the point estimate on the curve itself.\n",
    "\n",
    "## Objectives\n",
    "\n",
    "You will be able to:\n",
    "\n",
    "* Independently code and implement the Gaussian Naive Bayes algorithm\n",
    "\n",
    "## Load the Dataset\n",
    "\n",
    "To start, load the dataset stored in the file 'heart.csv'. The dataset contains various measurements regarding patients and a 'target' feature indicating whether or not they have heart disease. You'll be building a GNB classifier to help determine whether future patients do or do not have heart disease. As reference, this dataset was taken from Kaggle. You can see the original data post here: https://www.kaggle.com/ronitf/heart-disease-uci."
   ]
  },
  {
   "cell_type": "code",
   "execution_count": 1,
   "metadata": {},
   "outputs": [
    {
     "data": {
      "text/html": [
       "<div>\n",
       "<style scoped>\n",
       "    .dataframe tbody tr th:only-of-type {\n",
       "        vertical-align: middle;\n",
       "    }\n",
       "\n",
       "    .dataframe tbody tr th {\n",
       "        vertical-align: top;\n",
       "    }\n",
       "\n",
       "    .dataframe thead th {\n",
       "        text-align: right;\n",
       "    }\n",
       "</style>\n",
       "<table border=\"1\" class=\"dataframe\">\n",
       "  <thead>\n",
       "    <tr style=\"text-align: right;\">\n",
       "      <th></th>\n",
       "      <th>age</th>\n",
       "      <th>sex</th>\n",
       "      <th>cp</th>\n",
       "      <th>trestbps</th>\n",
       "      <th>chol</th>\n",
       "      <th>fbs</th>\n",
       "      <th>restecg</th>\n",
       "      <th>thalach</th>\n",
       "      <th>exang</th>\n",
       "      <th>oldpeak</th>\n",
       "      <th>slope</th>\n",
       "      <th>ca</th>\n",
       "      <th>thal</th>\n",
       "      <th>target</th>\n",
       "    </tr>\n",
       "  </thead>\n",
       "  <tbody>\n",
       "    <tr>\n",
       "      <th>0</th>\n",
       "      <td>63</td>\n",
       "      <td>1</td>\n",
       "      <td>3</td>\n",
       "      <td>145</td>\n",
       "      <td>233</td>\n",
       "      <td>1</td>\n",
       "      <td>0</td>\n",
       "      <td>150</td>\n",
       "      <td>0</td>\n",
       "      <td>2.3</td>\n",
       "      <td>0</td>\n",
       "      <td>0</td>\n",
       "      <td>1</td>\n",
       "      <td>1</td>\n",
       "    </tr>\n",
       "    <tr>\n",
       "      <th>1</th>\n",
       "      <td>37</td>\n",
       "      <td>1</td>\n",
       "      <td>2</td>\n",
       "      <td>130</td>\n",
       "      <td>250</td>\n",
       "      <td>0</td>\n",
       "      <td>1</td>\n",
       "      <td>187</td>\n",
       "      <td>0</td>\n",
       "      <td>3.5</td>\n",
       "      <td>0</td>\n",
       "      <td>0</td>\n",
       "      <td>2</td>\n",
       "      <td>1</td>\n",
       "    </tr>\n",
       "    <tr>\n",
       "      <th>2</th>\n",
       "      <td>41</td>\n",
       "      <td>0</td>\n",
       "      <td>1</td>\n",
       "      <td>130</td>\n",
       "      <td>204</td>\n",
       "      <td>0</td>\n",
       "      <td>0</td>\n",
       "      <td>172</td>\n",
       "      <td>0</td>\n",
       "      <td>1.4</td>\n",
       "      <td>2</td>\n",
       "      <td>0</td>\n",
       "      <td>2</td>\n",
       "      <td>1</td>\n",
       "    </tr>\n",
       "    <tr>\n",
       "      <th>3</th>\n",
       "      <td>56</td>\n",
       "      <td>1</td>\n",
       "      <td>1</td>\n",
       "      <td>120</td>\n",
       "      <td>236</td>\n",
       "      <td>0</td>\n",
       "      <td>1</td>\n",
       "      <td>178</td>\n",
       "      <td>0</td>\n",
       "      <td>0.8</td>\n",
       "      <td>2</td>\n",
       "      <td>0</td>\n",
       "      <td>2</td>\n",
       "      <td>1</td>\n",
       "    </tr>\n",
       "    <tr>\n",
       "      <th>4</th>\n",
       "      <td>57</td>\n",
       "      <td>0</td>\n",
       "      <td>0</td>\n",
       "      <td>120</td>\n",
       "      <td>354</td>\n",
       "      <td>0</td>\n",
       "      <td>1</td>\n",
       "      <td>163</td>\n",
       "      <td>1</td>\n",
       "      <td>0.6</td>\n",
       "      <td>2</td>\n",
       "      <td>0</td>\n",
       "      <td>2</td>\n",
       "      <td>1</td>\n",
       "    </tr>\n",
       "  </tbody>\n",
       "</table>\n",
       "</div>"
      ],
      "text/plain": [
       "   age  sex  cp  trestbps  chol  fbs  restecg  thalach  exang  oldpeak  slope  \\\n",
       "0   63    1   3       145   233    1        0      150      0      2.3      0   \n",
       "1   37    1   2       130   250    0        1      187      0      3.5      0   \n",
       "2   41    0   1       130   204    0        0      172      0      1.4      2   \n",
       "3   56    1   1       120   236    0        1      178      0      0.8      2   \n",
       "4   57    0   0       120   354    0        1      163      1      0.6      2   \n",
       "\n",
       "   ca  thal  target  \n",
       "0   0     1       1  \n",
       "1   0     2       1  \n",
       "2   0     2       1  \n",
       "3   0     2       1  \n",
       "4   0     2       1  "
      ]
     },
     "execution_count": 1,
     "metadata": {},
     "output_type": "execute_result"
    }
   ],
   "source": [
    "#Your code here; load the dataset\n",
    "import pandas as pd\n",
    "\n",
    "df = pd.read_csv('heart.csv')\n",
    "df.head()"
   ]
  },
  {
   "cell_type": "markdown",
   "metadata": {},
   "source": [
    "## Define the Problem\n",
    "\n",
    "As discussed, the dataset contains various patient measurements along with a 'target' variable indicating whether or not the individual has heart disease. Define X and y below."
   ]
  },
  {
   "cell_type": "code",
   "execution_count": 3,
   "metadata": {},
   "outputs": [
    {
     "data": {
      "text/plain": [
       "1    165\n",
       "0    138\n",
       "Name: target, dtype: int64"
      ]
     },
     "execution_count": 3,
     "metadata": {},
     "output_type": "execute_result"
    }
   ],
   "source": [
    "#Your code here\n",
    "X = df[[col for col in df.columns if col!='target']]\n",
    "y = df.target\n",
    "y.value_counts() "
   ]
  },
  {
   "cell_type": "markdown",
   "metadata": {},
   "source": [
    "## Perform a Train-Test Split\n",
    "\n",
    "While not demonstrated in the previous lesson, you've seen from your work with regression that an appropriate methodology to determine how well your algorithm will generalize to new data is to perform a train test split. \n",
    "\n",
    "> Note: Use random state 22 to have your results match those of the solution branch provided."
   ]
  },
  {
   "cell_type": "code",
   "execution_count": 4,
   "metadata": {},
   "outputs": [],
   "source": [
    "#Your code here; perform a train-test split\n",
    "from sklearn.model_selection import train_test_split\n",
    "\n",
    "X_train, X_test, y_train, y_test = train_test_split(X, y, random_state=22)"
   ]
  },
  {
   "cell_type": "markdown",
   "metadata": {},
   "source": [
    "## Calculate the Mean & Standard Deviation of Each Feature for Each Class In the Train Set\n",
    "\n",
    "Now, calculate the mean and standard deviation for each feature within each of the target class groups. This will serve as your a priori distribution estimate to determine the posterior likelihood of an observation belonging to one class versus the other."
   ]
  },
  {
   "cell_type": "code",
   "execution_count": 5,
   "metadata": {},
   "outputs": [
    {
     "data": {
      "text/html": [
       "<div>\n",
       "<style scoped>\n",
       "    .dataframe tbody tr th:only-of-type {\n",
       "        vertical-align: middle;\n",
       "    }\n",
       "\n",
       "    .dataframe tbody tr th {\n",
       "        vertical-align: top;\n",
       "    }\n",
       "\n",
       "    .dataframe thead tr th {\n",
       "        text-align: left;\n",
       "    }\n",
       "\n",
       "    .dataframe thead tr:last-of-type th {\n",
       "        text-align: right;\n",
       "    }\n",
       "</style>\n",
       "<table border=\"1\" class=\"dataframe\">\n",
       "  <thead>\n",
       "    <tr>\n",
       "      <th></th>\n",
       "      <th colspan=\"2\" halign=\"left\">age</th>\n",
       "      <th colspan=\"2\" halign=\"left\">sex</th>\n",
       "      <th colspan=\"2\" halign=\"left\">cp</th>\n",
       "      <th colspan=\"2\" halign=\"left\">trestbps</th>\n",
       "      <th colspan=\"2\" halign=\"left\">chol</th>\n",
       "      <th>...</th>\n",
       "      <th colspan=\"2\" halign=\"left\">exang</th>\n",
       "      <th colspan=\"2\" halign=\"left\">oldpeak</th>\n",
       "      <th colspan=\"2\" halign=\"left\">slope</th>\n",
       "      <th colspan=\"2\" halign=\"left\">ca</th>\n",
       "      <th colspan=\"2\" halign=\"left\">thal</th>\n",
       "    </tr>\n",
       "    <tr>\n",
       "      <th></th>\n",
       "      <th>mean</th>\n",
       "      <th>std</th>\n",
       "      <th>mean</th>\n",
       "      <th>std</th>\n",
       "      <th>mean</th>\n",
       "      <th>std</th>\n",
       "      <th>mean</th>\n",
       "      <th>std</th>\n",
       "      <th>mean</th>\n",
       "      <th>std</th>\n",
       "      <th>...</th>\n",
       "      <th>mean</th>\n",
       "      <th>std</th>\n",
       "      <th>mean</th>\n",
       "      <th>std</th>\n",
       "      <th>mean</th>\n",
       "      <th>std</th>\n",
       "      <th>mean</th>\n",
       "      <th>std</th>\n",
       "      <th>mean</th>\n",
       "      <th>std</th>\n",
       "    </tr>\n",
       "    <tr>\n",
       "      <th>target</th>\n",
       "      <th></th>\n",
       "      <th></th>\n",
       "      <th></th>\n",
       "      <th></th>\n",
       "      <th></th>\n",
       "      <th></th>\n",
       "      <th></th>\n",
       "      <th></th>\n",
       "      <th></th>\n",
       "      <th></th>\n",
       "      <th></th>\n",
       "      <th></th>\n",
       "      <th></th>\n",
       "      <th></th>\n",
       "      <th></th>\n",
       "      <th></th>\n",
       "      <th></th>\n",
       "      <th></th>\n",
       "      <th></th>\n",
       "      <th></th>\n",
       "      <th></th>\n",
       "    </tr>\n",
       "  </thead>\n",
       "  <tbody>\n",
       "    <tr>\n",
       "      <th>0</th>\n",
       "      <td>57.281553</td>\n",
       "      <td>8.009085</td>\n",
       "      <td>0.796117</td>\n",
       "      <td>0.404853</td>\n",
       "      <td>0.466019</td>\n",
       "      <td>0.916253</td>\n",
       "      <td>134.067961</td>\n",
       "      <td>18.919469</td>\n",
       "      <td>251.543689</td>\n",
       "      <td>52.341596</td>\n",
       "      <td>...</td>\n",
       "      <td>0.543689</td>\n",
       "      <td>0.500523</td>\n",
       "      <td>1.600971</td>\n",
       "      <td>1.310253</td>\n",
       "      <td>1.184466</td>\n",
       "      <td>0.555676</td>\n",
       "      <td>1.213592</td>\n",
       "      <td>1.025656</td>\n",
       "      <td>2.582524</td>\n",
       "      <td>0.602678</td>\n",
       "    </tr>\n",
       "    <tr>\n",
       "      <th>1</th>\n",
       "      <td>52.322581</td>\n",
       "      <td>9.995567</td>\n",
       "      <td>0.564516</td>\n",
       "      <td>0.497832</td>\n",
       "      <td>1.427419</td>\n",
       "      <td>0.972578</td>\n",
       "      <td>129.137097</td>\n",
       "      <td>16.589415</td>\n",
       "      <td>240.516129</td>\n",
       "      <td>46.683240</td>\n",
       "      <td>...</td>\n",
       "      <td>0.161290</td>\n",
       "      <td>0.369291</td>\n",
       "      <td>0.592742</td>\n",
       "      <td>0.749544</td>\n",
       "      <td>1.580645</td>\n",
       "      <td>0.612827</td>\n",
       "      <td>0.354839</td>\n",
       "      <td>0.818422</td>\n",
       "      <td>2.072581</td>\n",
       "      <td>0.444906</td>\n",
       "    </tr>\n",
       "  </tbody>\n",
       "</table>\n",
       "<p>2 rows × 26 columns</p>\n",
       "</div>"
      ],
      "text/plain": [
       "              age                 sex                  cp            \\\n",
       "             mean       std      mean       std      mean       std   \n",
       "target                                                                \n",
       "0       57.281553  8.009085  0.796117  0.404853  0.466019  0.916253   \n",
       "1       52.322581  9.995567  0.564516  0.497832  1.427419  0.972578   \n",
       "\n",
       "          trestbps                   chol             ...     exang            \\\n",
       "              mean        std        mean        std  ...      mean       std   \n",
       "target                                                ...                       \n",
       "0       134.067961  18.919469  251.543689  52.341596  ...  0.543689  0.500523   \n",
       "1       129.137097  16.589415  240.516129  46.683240  ...  0.161290  0.369291   \n",
       "\n",
       "         oldpeak               slope                  ca                thal  \\\n",
       "            mean       std      mean       std      mean       std      mean   \n",
       "target                                                                         \n",
       "0       1.600971  1.310253  1.184466  0.555676  1.213592  1.025656  2.582524   \n",
       "1       0.592742  0.749544  1.580645  0.612827  0.354839  0.818422  2.072581   \n",
       "\n",
       "                  \n",
       "             std  \n",
       "target            \n",
       "0       0.602678  \n",
       "1       0.444906  \n",
       "\n",
       "[2 rows x 26 columns]"
      ]
     },
     "execution_count": 5,
     "metadata": {},
     "output_type": "execute_result"
    }
   ],
   "source": [
    "#Your code here; calculate the mean and standard deviation for each feature within each class for the training set\n",
    "df_train = pd.concat([X_train, y_train], axis=1)\n",
    "aggs = df_train.groupby('target').agg(['mean', 'std'])\n",
    "aggs"
   ]
  },
  {
   "cell_type": "markdown",
   "metadata": {},
   "source": [
    "## Define a Function to Calculate the Point Estimate for the Conditional Probability of a Feature Value for a Given Class\n",
    "\n",
    "Recall that the point estimate is given by the probability density function of the normal distribution:  \n",
    "\n",
    " $$ \\large P(x_i|y) = \\frac{1}{\\sqrt{2 \\pi \\sigma_i^2}}e^{\\frac{-(x-\\mu_i)^2}{2\\sigma_i^2}}$$\n",
    "\n",
    "> Note: Feel free to use the built-in function from SciPy to do this as demonstrated in the lesson. Alternatively, take the time to code the above formula from scratch."
   ]
  },
  {
   "cell_type": "code",
   "execution_count": 6,
   "metadata": {},
   "outputs": [
    {
     "data": {
      "text/plain": [
       "0.035036938123834606"
      ]
     },
     "execution_count": 6,
     "metadata": {},
     "output_type": "execute_result"
    }
   ],
   "source": [
    "#Your code here\n",
    "from scipy import stats\n",
    "\n",
    "def p_x_given_class(obs_row, feature, class_):\n",
    "    mu = aggs[feature]['mean'][class_]\n",
    "    std = aggs[feature]['std'][class_]\n",
    "    obs = obs_row[feature]\n",
    "    \n",
    "    p_x_given_y = stats.norm.pdf(obs, loc=mu, scale=std)\n",
    "    return p_x_given_y\n",
    "\n",
    "p_x_given_class(X_train.iloc[0], X.columns[0], 0)"
   ]
  },
  {
   "cell_type": "markdown",
   "metadata": {},
   "source": [
    "## Define a Prediction Function \n",
    "\n",
    "Define a prediction function that will return a predicted class value for a particular observation. To do this, calculate the point estimates for each of the features using your function above. Then, take the product of these point estimates for a given class and multiply it by the probability of that particular class. Take the class associated with the largest probability output from these calculations as your prediction."
   ]
  },
  {
   "cell_type": "code",
   "execution_count": 10,
   "metadata": {},
   "outputs": [
    {
     "data": {
      "text/plain": [
       "0"
      ]
     },
     "execution_count": 10,
     "metadata": {},
     "output_type": "execute_result"
    }
   ],
   "source": [
    "##Your code here\n",
    "import numpy as np\n",
    "\n",
    "def predict_class(obs_row, y_set):\n",
    "    c_probs = []\n",
    "    # classes loop\n",
    "    for c in range(2):\n",
    "        p = len(y_set[y_set==c]) / len(y_set)\n",
    "        # features loop\n",
    "        for feature in X.columns:\n",
    "            # product of feature point estimates for a given class (and class probability)\n",
    "            p *= p_x_given_class(obs_row, feature, c)\n",
    "    # determine output        \n",
    "        c_probs.append(p)        \n",
    "    return np.argmax(c_probs)\n",
    "\n",
    "predict_class(X_train.iloc[0], y_train)"
   ]
  },
  {
   "cell_type": "markdown",
   "metadata": {},
   "source": [
    "## Apply Your Prediction Function to the Train and Test Sets"
   ]
  },
  {
   "cell_type": "code",
   "execution_count": 11,
   "metadata": {},
   "outputs": [],
   "source": [
    "#Your code here\n",
    "y_hat_train = [predict_class(X_train.iloc[idx], y_train) for idx in range(len(X_train))]\n",
    "y_hat_test = [predict_class(X_test.iloc[idx], y_test) for idx in range(len(X_test))]"
   ]
  },
  {
   "cell_type": "markdown",
   "metadata": {},
   "source": [
    "## Calculate the Train and Test Accuracy"
   ]
  },
  {
   "cell_type": "code",
   "execution_count": 13,
   "metadata": {},
   "outputs": [
    {
     "name": "stdout",
     "output_type": "stream",
     "text": [
      "Training Set Accuracy: 0.8502202643171806\n",
      "Testing Set Accuracy: 0.8289473684210527\n"
     ]
    }
   ],
   "source": [
    "#Your code here\n",
    "res_train = y_hat_train == y_train\n",
    "acc_train = res_train.sum() / len(res_train)\n",
    "\n",
    "res_test = y_hat_test == y_test\n",
    "acc_test = res_test.sum() / len(res_test)\n",
    "\n",
    "print('Training Set Accuracy: {}\\nTesting Set Accuracy: {}'.format(acc_train, acc_test))"
   ]
  },
  {
   "cell_type": "markdown",
   "metadata": {},
   "source": [
    "## Level-Up\n",
    "\n",
    "### Adapting Point Estimates for the Conditional Probability Into True Probability Estimates\n",
    "\n",
    "As discussed, the point estimate from the probability density function is not a true probability measurement. Recall that the area under a probability density function is 1, representing the total probability of all possible outcomes. Accordingly, to determine the probability of a feature measurement occurring, you would need to find the area under some portion of the PDF. Determining appropriate bounds for this area however, is a bit tricky and arbitrary. For example, when generating a class prediction, you would want to know the probability of a patient having a resting blood pressure of 145 given that they had heart disease versus the probability of having a resting blood pressure of 145 given that the did not have heart disease. Previously, you've simply used the point where x=145 on the PDF curve to do this. However, the probability of any single point is actually 0. To calculate an actual probability, you would have to create a range around the observed value such as \"what is the probability of having a resting blood pressure between 144 and 146 inclusive?\" Alternatively, you could narrow the range and rewrite the problem as \"what is the probability of having a resting blood pressure between 144.5 and 145.5?\" Since defining these bounds is arbitrary, a potentially interesting research question is how various band methods might impact output predictions and the overall accuracy of the algorithm.\n",
    "\n",
    "\n",
    "## Rewriting the Conditional Probability Formula\n",
    "\n",
    "Rewrite your conditional probability formula above to take a feature observation, a given class and a range width and calculate the actual probability beneath the PDF curve of an observation falling within the range of the given width centered at the given observation value. For example, taking up the previous example of resting blood pressure, you might calculate the probability of having a resting blood pressure within 1bp of 145 given that a patient has heart disease. In this case, the range width would be 2bp (144bp to 146bp) and the corresponding area under the PDF curve for the normal distribution would look like this:  \n",
    "\n",
    "<img src=\"images/pdf_integral.png\">\n",
    "\n",
    "With that, write such a function below."
   ]
  },
  {
   "cell_type": "code",
   "execution_count": 14,
   "metadata": {},
   "outputs": [],
   "source": [
    "def p_band_x_given_class(obs_row, feature, c, range_width_std):\n",
    "    \"\"\"obs_row is the observation in question.\n",
    "    feature is the feature of the observation row for which you are calculating a conditional probability for.\n",
    "    C is the class flag for the conditional probability.\n",
    "    Range width is the range in standard deviations of the feature variable to calculate the integral under the PDF curve for\"\"\"\n",
    "    #Your code here\n",
    "    mu = aggs[feature]['mean'][c]\n",
    "    std = aggs[feature]['std'][c]\n",
    "    obs = obs_row[feature]    \n",
    "    band_min = obs - range_width_std * std / 2\n",
    "    band_max = obs + range_width_std * std / 2\n",
    "    \n",
    "    cdf_min = stats.norm.cdf(band_min, loc=mu, scale=std)\n",
    "    cdf_max = stats.norm.cdf(band_max, loc=mu, scale=std)\n",
    "    p_x_given_y = cdf_max - cdf_min\n",
    "    return p_x_given_y"
   ]
  },
  {
   "cell_type": "markdown",
   "metadata": {},
   "source": [
    "## Update the Prediction Function\n",
    "\n",
    "Now, update the prediction function to use this new conditional probability function. Be sure that you can pass in the range width variable to this wrapper function."
   ]
  },
  {
   "cell_type": "code",
   "execution_count": 15,
   "metadata": {},
   "outputs": [],
   "source": [
    "#Your code here; update the prediction function\n",
    "def predict_class(obs_row, y_set, method='bands', range_width_std=.25):\n",
    "    c_probs = []\n",
    "    for c in range(2):\n",
    "        p = len(y_set[y_set==c]) / len(y_set) \n",
    "        for feature in X.columns:\n",
    "            if method == 'bands':\n",
    "                p *= p_band_x_given_class(obs_row, feature, c, range_width_std)\n",
    "            else:\n",
    "                p *= p_x_given_class(obs_row, feature, c)\n",
    "                \n",
    "        c_probs.append(p)\n",
    "    return np.argmax(c_probs)"
   ]
  },
  {
   "cell_type": "markdown",
   "metadata": {},
   "source": [
    "## Experiment with the Impact of Various Range-Widths\n",
    "\n",
    "Finally, create a for loop to measure the impact of varying range-widths on the classifier's test and train accuracy. Iterate over various range-widths from .1 standard deviations to 2 standard deviations. For each of these, store the associated test and train accuracies. Finally, plot these on a graph. The x-axis should be the associated range-width (expressed in standard deviations; each feature will have a unique width applicable to the specific scale). The y-axis will be the associated accuracy. Be sure to include a legend for train accuracy versus test accuracy.\n",
    "\n",
    "_Note:_ ⏰ _Expect your code to take over two minutes to run._"
   ]
  },
  {
   "cell_type": "code",
   "execution_count": 16,
   "metadata": {},
   "outputs": [
    {
     "data": {
      "image/png": "[encoded data removed]",
      "text/plain": [
       "<Figure size 432x288 with 1 Axes>"
      ]
     },
     "metadata": {
      "needs_background": "light"
     },
     "output_type": "display_data"
    }
   ],
   "source": [
    "#Your code here\n",
    "import matplotlib.pyplot as plt\n",
    "%matplotlib inline\n",
    "\n",
    "train_accs = []\n",
    "test_accs = []\n",
    "range_stds = np.linspace(.1, 2, num=21)\n",
    "for range_std in range_stds:    \n",
    "    y_hat_train = [predict_class(X_train.iloc[idx], y_train, 'bands', range_std) for idx in range(len(X_train))]\n",
    "    y_hat_test = [predict_class(X_test.iloc[idx], y_test, 'bands', range_std) for idx in range(len(X_test))]\n",
    "    \n",
    "    res_train = y_hat_train == y_train\n",
    "    acc_train = res_train.sum() / len(res_train)\n",
    "\n",
    "    res_test = y_hat_test == y_test\n",
    "    acc_test = res_test.sum() / len(res_test)\n",
    "    \n",
    "    train_accs.append(acc_train)\n",
    "    test_accs.append(acc_test)\n",
    "    \n",
    "plt.plot(range_stds, train_accs, label='Training Accuracy')\n",
    "plt.plot(range_stds, test_accs, label='Testing Accuracy')\n",
    "plt.title('GNB: Accuracy vs Standard Deviation Bin Ranges')\n",
    "plt.ylabel('Classifier Accuracy')\n",
    "plt.xlabel('PDF Standard Deviations Width')\n",
    "plt.legend();"
   ]
  },
  {
   "cell_type": "markdown",
   "metadata": {},
   "source": [
    "> Comment: Not a wild difference from our point estimates obtained by using points from the PDF itself, but there is some impact. **Interestingly, these graphs will differ substantially in shape depending on the initial train test split used.** The recommendation would be to use the point estimates from the PDF itself, or a modest band-width size."
   ]
  },
  {
   "cell_type": "markdown",
   "metadata": {},
   "source": [
    "## Additional Appendix: Plotting PDFs and Probability Integrals\n",
    "\n",
    "Below, feel free to take a look at the code used to generate the PDF graph image above."
   ]
  },
  {
   "cell_type": "code",
   "execution_count": 15,
   "metadata": {},
   "outputs": [
    {
     "data": {
      "text/plain": [
       "mean    129.303030\n",
       "std      16.169613\n",
       "Name: trestbps, dtype: float64"
      ]
     },
     "execution_count": 15,
     "metadata": {},
     "output_type": "execute_result"
    }
   ],
   "source": [
    "temp = df[df.target==1]['trestbps']\n",
    "aggs = temp.agg(['mean', 'std'])\n",
    "aggs"
   ]
  },
  {
   "cell_type": "code",
   "execution_count": null,
   "metadata": {},
   "outputs": [],
   "source": [
    "import numpy as np\n",
    "import matplotlib.pyplot as plt\n",
    "from matplotlib.patches import Polygon\n",
    "import seaborn as sns\n",
    "import scipy.stats as stats\n",
    "sns.set_style('white')"
   ]
  },
  {
   "cell_type": "code",
   "execution_count": 18,
   "metadata": {
    "scrolled": true
   },
   "outputs": [
    {
     "name": "stdout",
     "output_type": "stream",
     "text": [
      "Probability of Blood Pressure Falling withing Range for the Given Class: 0.03080251623846919\n"
     ]
    },
    {
     "data": {
      "text/plain": [
       "Text(0.5, 0, 'Resting Blood Pressure')"
      ]
     },
     "execution_count": 18,
     "metadata": {},
     "output_type": "execute_result"
    },
    {
     "data": {
      "image/png": "[encoded data removed]",
      "text/plain": [
       "<Figure size 432x288 with 1 Axes>"
      ]
     },
     "metadata": {},
     "output_type": "display_data"
    }
   ],
   "source": [
    "x = np.linspace(temp.min(), temp.max(), num=10**3)\n",
    "pdf = stats.norm.pdf(x, loc=aggs['mean'], scale=aggs['std'])\n",
    "xi = 145\n",
    "width = 2\n",
    "xi_lower = xi - width/2\n",
    "xi_upper = xi + width/2\n",
    "\n",
    "fig, ax = plt.subplots()\n",
    "\n",
    "plt.plot(x, pdf)\n",
    "\n",
    "# Make the shaded region\n",
    "ix = np.linspace(xi_lower, xi_upper)\n",
    "iy = stats.norm.pdf(ix, loc=aggs['mean'], scale=aggs['std'])\n",
    "verts = [(xi_lower, 0), *zip(ix, iy), (xi_upper, 0)]\n",
    "poly = Polygon(verts, facecolor='0.9', edgecolor='0.5')\n",
    "ax.add_patch(poly);\n",
    "\n",
    "plt.plot((145, 145), (0, stats.norm.pdf(145, loc=aggs['mean'], scale=aggs['std'])), linestyle='dotted')\n",
    "p_area = stats.norm.cdf(xi_upper, loc=aggs['mean'], scale=aggs['std']) - stats.norm.cdf(xi_lower, loc=aggs['mean'], scale=aggs['std'])\n",
    "print('Probability of Blood Pressure Falling withing Range for the Given Class: {}'.format(p_area))\n",
    "plt.title('Conditional Probability of Resting Blood Pressure ~145 for Those With Heart Disease')\n",
    "plt.ylabel('Probability Density')\n",
    "plt.xlabel('Resting Blood Pressure')"
   ]
  },
  {
   "cell_type": "markdown",
   "metadata": {},
   "source": [
    "> Comment: See https://matplotlib.org/gallery/showcase/integral.html for further details on plotting shaded integral areas under curves."
   ]
  },
  {
   "cell_type": "markdown",
   "metadata": {},
   "source": [
    "## Summary\n",
    "\n",
    "Well done! In this lab, you implemented the Gaussian Naive Bayes classifier from scratch, used it to generate classification predictions and then validated the accuracy of the model."
   ]
  }
 ],
 "metadata": {
  "kernelspec": {
   "display_name": "Python 3",
   "language": "python",
   "name": "python3"
  },
  "language_info": {
   "codemirror_mode": {
    "name": "ipython",
    "version": 3
   },
   "file_extension": ".py",
   "mimetype": "text/x-python",
   "name": "python",
   "nbconvert_exporter": "python",
   "pygments_lexer": "ipython3",
   "version": "3.6.7"
  },
  "toc": {
   "base_numbering": 1,
   "nav_menu": {},
   "number_sections": true,
   "sideBar": true,
   "skip_h1_title": false,
   "title_cell": "Table of Contents",
   "title_sidebar": "Contents",
   "toc_cell": false,
   "toc_position": {},
   "toc_section_display": true,
   "toc_window_display": false
  }
 },
 "nbformat": 4,
 "nbformat_minor": 2
}
